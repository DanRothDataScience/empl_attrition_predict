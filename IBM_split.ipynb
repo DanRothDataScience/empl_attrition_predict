{
 "cells": [
  {
   "cell_type": "code",
   "execution_count": 7,
   "metadata": {},
   "outputs": [],
   "source": [
    "import numpy as np\n",
    "import pandas as pd\n",
    "import matplotlib.pyplot as plt\n",
    "import seaborn as sns\n",
    "import operator, pickle\n",
    "from collections import defaultdict\n",
    "from itertools import cycle, islice\n",
    "from sklearn.model_selection import train_test_split, KFold, cross_val_score, cross_validate\n",
    "from sklearn.linear_model import LogisticRegression\n",
    "from sklearn.metrics import confusion_matrix"
   ]
  },
  {
   "cell_type": "code",
   "execution_count": 2,
   "metadata": {},
   "outputs": [
    {
     "data": {
      "text/html": [
       "<div>\n",
       "<style scoped>\n",
       "    .dataframe tbody tr th:only-of-type {\n",
       "        vertical-align: middle;\n",
       "    }\n",
       "\n",
       "    .dataframe tbody tr th {\n",
       "        vertical-align: top;\n",
       "    }\n",
       "\n",
       "    .dataframe thead th {\n",
       "        text-align: right;\n",
       "    }\n",
       "</style>\n",
       "<table border=\"1\" class=\"dataframe\">\n",
       "  <thead>\n",
       "    <tr style=\"text-align: right;\">\n",
       "      <th></th>\n",
       "      <th>Unnamed: 0</th>\n",
       "      <th>Age</th>\n",
       "      <th>Attrition</th>\n",
       "      <th>BusinessTravel</th>\n",
       "      <th>DailyRate</th>\n",
       "      <th>Department</th>\n",
       "      <th>DistanceFromHome</th>\n",
       "      <th>Education</th>\n",
       "      <th>EducationField</th>\n",
       "      <th>EnvironmentSatisfaction</th>\n",
       "      <th>...</th>\n",
       "      <th>StockOptionLevel</th>\n",
       "      <th>TotalWorkingYears</th>\n",
       "      <th>TrainingTimesLastYear</th>\n",
       "      <th>WorkLifeBalance</th>\n",
       "      <th>YearsAtCompany</th>\n",
       "      <th>YearsInCurrentRole</th>\n",
       "      <th>YearsSinceLastPromotion</th>\n",
       "      <th>YearsWithCurrManager</th>\n",
       "      <th>ResearchTravelRare</th>\n",
       "      <th>YearsNoChange</th>\n",
       "    </tr>\n",
       "  </thead>\n",
       "  <tbody>\n",
       "    <tr>\n",
       "      <td>0</td>\n",
       "      <td>0</td>\n",
       "      <td>41</td>\n",
       "      <td>Yes</td>\n",
       "      <td>Travel_Rarely</td>\n",
       "      <td>1102</td>\n",
       "      <td>Sales</td>\n",
       "      <td>1</td>\n",
       "      <td>2</td>\n",
       "      <td>Life Sciences</td>\n",
       "      <td>2</td>\n",
       "      <td>...</td>\n",
       "      <td>0</td>\n",
       "      <td>8</td>\n",
       "      <td>0</td>\n",
       "      <td>1</td>\n",
       "      <td>6</td>\n",
       "      <td>4</td>\n",
       "      <td>0</td>\n",
       "      <td>5</td>\n",
       "      <td>0</td>\n",
       "      <td>0</td>\n",
       "    </tr>\n",
       "    <tr>\n",
       "      <td>1</td>\n",
       "      <td>1</td>\n",
       "      <td>49</td>\n",
       "      <td>No</td>\n",
       "      <td>Travel_Frequently</td>\n",
       "      <td>279</td>\n",
       "      <td>Research &amp; Development</td>\n",
       "      <td>8</td>\n",
       "      <td>1</td>\n",
       "      <td>Life Sciences</td>\n",
       "      <td>3</td>\n",
       "      <td>...</td>\n",
       "      <td>1</td>\n",
       "      <td>10</td>\n",
       "      <td>3</td>\n",
       "      <td>3</td>\n",
       "      <td>10</td>\n",
       "      <td>7</td>\n",
       "      <td>1</td>\n",
       "      <td>7</td>\n",
       "      <td>0</td>\n",
       "      <td>1</td>\n",
       "    </tr>\n",
       "    <tr>\n",
       "      <td>2</td>\n",
       "      <td>2</td>\n",
       "      <td>37</td>\n",
       "      <td>Yes</td>\n",
       "      <td>Travel_Rarely</td>\n",
       "      <td>1373</td>\n",
       "      <td>Research &amp; Development</td>\n",
       "      <td>2</td>\n",
       "      <td>2</td>\n",
       "      <td>Other</td>\n",
       "      <td>4</td>\n",
       "      <td>...</td>\n",
       "      <td>0</td>\n",
       "      <td>7</td>\n",
       "      <td>3</td>\n",
       "      <td>3</td>\n",
       "      <td>0</td>\n",
       "      <td>0</td>\n",
       "      <td>0</td>\n",
       "      <td>0</td>\n",
       "      <td>1</td>\n",
       "      <td>0</td>\n",
       "    </tr>\n",
       "    <tr>\n",
       "      <td>3</td>\n",
       "      <td>3</td>\n",
       "      <td>33</td>\n",
       "      <td>No</td>\n",
       "      <td>Travel_Frequently</td>\n",
       "      <td>1392</td>\n",
       "      <td>Research &amp; Development</td>\n",
       "      <td>3</td>\n",
       "      <td>4</td>\n",
       "      <td>Life Sciences</td>\n",
       "      <td>4</td>\n",
       "      <td>...</td>\n",
       "      <td>0</td>\n",
       "      <td>8</td>\n",
       "      <td>3</td>\n",
       "      <td>3</td>\n",
       "      <td>8</td>\n",
       "      <td>7</td>\n",
       "      <td>3</td>\n",
       "      <td>0</td>\n",
       "      <td>0</td>\n",
       "      <td>0</td>\n",
       "    </tr>\n",
       "    <tr>\n",
       "      <td>4</td>\n",
       "      <td>4</td>\n",
       "      <td>27</td>\n",
       "      <td>No</td>\n",
       "      <td>Travel_Rarely</td>\n",
       "      <td>591</td>\n",
       "      <td>Research &amp; Development</td>\n",
       "      <td>2</td>\n",
       "      <td>1</td>\n",
       "      <td>Medical</td>\n",
       "      <td>1</td>\n",
       "      <td>...</td>\n",
       "      <td>1</td>\n",
       "      <td>6</td>\n",
       "      <td>3</td>\n",
       "      <td>3</td>\n",
       "      <td>2</td>\n",
       "      <td>2</td>\n",
       "      <td>2</td>\n",
       "      <td>2</td>\n",
       "      <td>1</td>\n",
       "      <td>2</td>\n",
       "    </tr>\n",
       "  </tbody>\n",
       "</table>\n",
       "<p>5 rows × 31 columns</p>\n",
       "</div>"
      ],
      "text/plain": [
       "   Unnamed: 0  Age Attrition     BusinessTravel  DailyRate  \\\n",
       "0           0   41       Yes      Travel_Rarely       1102   \n",
       "1           1   49        No  Travel_Frequently        279   \n",
       "2           2   37       Yes      Travel_Rarely       1373   \n",
       "3           3   33        No  Travel_Frequently       1392   \n",
       "4           4   27        No      Travel_Rarely        591   \n",
       "\n",
       "               Department  DistanceFromHome  Education EducationField  \\\n",
       "0                   Sales                 1          2  Life Sciences   \n",
       "1  Research & Development                 8          1  Life Sciences   \n",
       "2  Research & Development                 2          2          Other   \n",
       "3  Research & Development                 3          4  Life Sciences   \n",
       "4  Research & Development                 2          1        Medical   \n",
       "\n",
       "   EnvironmentSatisfaction  ...  StockOptionLevel  TotalWorkingYears  \\\n",
       "0                        2  ...                 0                  8   \n",
       "1                        3  ...                 1                 10   \n",
       "2                        4  ...                 0                  7   \n",
       "3                        4  ...                 0                  8   \n",
       "4                        1  ...                 1                  6   \n",
       "\n",
       "  TrainingTimesLastYear  WorkLifeBalance YearsAtCompany  YearsInCurrentRole  \\\n",
       "0                     0                1              6                   4   \n",
       "1                     3                3             10                   7   \n",
       "2                     3                3              0                   0   \n",
       "3                     3                3              8                   7   \n",
       "4                     3                3              2                   2   \n",
       "\n",
       "   YearsSinceLastPromotion YearsWithCurrManager  ResearchTravelRare  \\\n",
       "0                        0                    5                   0   \n",
       "1                        1                    7                   0   \n",
       "2                        0                    0                   1   \n",
       "3                        3                    0                   0   \n",
       "4                        2                    2                   1   \n",
       "\n",
       "   YearsNoChange  \n",
       "0              0  \n",
       "1              1  \n",
       "2              0  \n",
       "3              0  \n",
       "4              2  \n",
       "\n",
       "[5 rows x 31 columns]"
      ]
     },
     "execution_count": 2,
     "metadata": {},
     "output_type": "execute_result"
    }
   ],
   "source": [
    "ogdf = pd.read_csv('data/watson_eng.csv')\n",
    "ogdf.head()"
   ]
  },
  {
   "cell_type": "code",
   "execution_count": 3,
   "metadata": {},
   "outputs": [],
   "source": [
    "high_df = ogdf[ogdf.MonthlyIncome > 8333]\n",
    "low_df = ogdf[~ogdf.isin(high_df)]"
   ]
  },
  {
   "cell_type": "code",
   "execution_count": 14,
   "metadata": {},
   "outputs": [
    {
     "data": {
      "image/png": "[encoded data removed]",
      "text/plain": [
       "<Figure size 432x288 with 1 Axes>"
      ]
     },
     "metadata": {
      "needs_background": "light"
     },
     "output_type": "display_data"
    }
   ],
   "source": [
    "attrition_count = low_df.Attrition.value_counts()\n",
    "my_colors = list(islice(cycle(['b', 'r', 'g', 'y', 'k']), None, len(df)))\n",
    "ax = attrition_count.plot.bar(color=my_colors)\n",
    "plt.title('Attrition Value Counts')\n",
    "plt.xlabel('Attrition')\n",
    "plt.ylabel('Number of Employees')\n",
    "ax.set_xticklabels(['No', 'Yes'],rotation = 0);"
   ]
  },
  {
   "cell_type": "code",
   "execution_count": 12,
   "metadata": {},
   "outputs": [],
   "source": [
    "df = high_df.copy(deep=True)\n",
    "df.replace([np.inf, -np.inf], np.nan)\n",
    "df.dropna(inplace=True)\n",
    "remove = ['Attrition', 'MonthlyIncome', 'TotalWorkingYears', 'YearsAtCompany', 'YearsWithCurrManager']\n",
    "features = df.drop(remove, axis=1)\n",
    "features_dum = pd.get_dummies(features)\n",
    "target = df.Attrition\\\n",
    ".replace('Yes', 1)\\\n",
    ".replace('No', 0)\n",
    "\n",
    "X_train, X_test, y_train, y_test = train_test_split(features_dum, target, \n",
    "                                                    test_size = 0.2, random_state=99)\n",
    "\n"
   ]
  },
  {
   "cell_type": "code",
   "execution_count": 10,
   "metadata": {},
   "outputs": [],
   "source": [
    "# create models\n",
    "ratio_wei = {1 : 2, 0 : 1}\n",
    "log = LogisticRegression(C=20, solver='liblinear', max_iter=3000, class_weight=ratio_wei)"
   ]
  },
  {
   "cell_type": "code",
   "execution_count": 77,
   "metadata": {},
   "outputs": [
    {
     "name": "stdout",
     "output_type": "stream",
     "text": [
      "F1 Weighted: 0.8255583405021468\n",
      "Precision: 0.4896049231833833\n",
      "Recall: 0.6947337974845768\n",
      "ROC-AUC: 0.8543901075663681\n"
     ]
    }
   ],
   "source": [
    "kf = KFold(n_splits=5, random_state=99)\n",
    "model = log\n",
    "attrib = features_dum\n",
    "\n",
    "print('F1 Weighted:', np.mean(cross_val_score(model, attrib, target, cv=kf, scoring='f1_weighted')))\n",
    "print('Precision:', np.mean(cross_val_score(model, attrib, target, cv=kf, scoring='precision')))\n",
    "print('Recall:', np.mean(cross_val_score(model, attrib, target, cv=kf, scoring='recall')))\n",
    "print('ROC-AUC:', np.mean(cross_val_score(model, attrib, target, cv=kf, scoring='roc_auc')))"
   ]
  },
  {
   "cell_type": "code",
   "execution_count": 78,
   "metadata": {},
   "outputs": [
    {
     "data": {
      "image/png": "[encoded data removed]",
      "text/plain": [
       "<Figure size 600x400 with 2 Axes>"
      ]
     },
     "metadata": {
      "needs_background": "light"
     },
     "output_type": "display_data"
    }
   ],
   "source": [
    "predict = log.fit(X_train,y_train).predict(X_test)\n",
    "confusion = confusion_matrix(y_test, predict)\n",
    "plt.figure(dpi=100)\n",
    "sns.heatmap(confusion[::-1], annot=True, square=True, \n",
    "            xticklabels = ['False', 'True'], yticklabels=['True', 'False'])\n",
    "plt.xlabel('Predicted Attrition')\n",
    "plt.ylabel('Actual Attrition')\n",
    "plt.ylim((0,2))\n",
    "plt.title('Attrition Confusion Matrix');"
   ]
  },
  {
   "cell_type": "code",
   "execution_count": 13,
   "metadata": {},
   "outputs": [
    {
     "data": {
      "image/png": "[encoded data removed]",
      "text/plain": [
       "<Figure size 720x504 with 1 Axes>"
      ]
     },
     "metadata": {
      "needs_background": "light"
     },
     "output_type": "display_data"
    }
   ],
   "source": [
    "# plot feature coefficient variance\n",
    "cv_results = cross_validate(log, X_train, y_train, cv=5, return_estimator=True)\n",
    "\n",
    "feat_coef = []\n",
    "for model in cv_results['estimator']:\n",
    "    feat_coef.append(list(zip(X_train.columns, model.coef_[0])))\n",
    "flat_feat = [item for sublist in feat_coef for item in sublist]\n",
    "\n",
    "d = defaultdict(list)\n",
    "for k, v in flat_feat:\n",
    "    d[k].append(v)\n",
    "sorted_d = sorted(d.items(), key=operator.itemgetter(1), reverse=True)\n",
    "x = ([feat[0] for feat in sorted_d[:2]]\n",
    "     + [feat[0] for feat in sorted_d[4:6]]\n",
    "    + [feat[0] for feat in sorted_d[-4:]])\n",
    "y = ([coef[1] for coef in sorted_d[:2]]\n",
    "    + [coef[1] for coef in sorted_d[4:6]]\n",
    "    + [coef[1] for coef in sorted_d[-4:]])\n",
    "with open('feat_coef_high', 'wb') as f:\n",
    "    pickle.dump(sorted_d, f)\n",
    "\n",
    "labels = ['Overtime', 'Sales Dept', 'Single', 'HR Role', 'Life Sciences Ed.',\n",
    "          'Env. Satisfaction', 'Job Involvement', 'Manager Role']\n",
    "plt.figure(figsize=(10, 7))\n",
    "ax = sns.boxplot(y,x, linewidth=2, palette='Set2')\n",
    "# ax.set_xticklabels(labels)\n",
    "# ax.axhline(3.5, ls='--', c='r')\n",
    "ax.axhspan(ymin=3.5, ymax=7.5,color='g', alpha=0.1)\n",
    "ax.axhspan(ymin=-0.5, ymax=3.5,color='r', alpha=0.1)\n",
    "plt.title('Top Factors in Predicting Employee Attrition')\n",
    "plt.xlabel('Predictive Influence on Attrition')\n",
    "plt.ylabel('Features');"
   ]
  },
  {
   "cell_type": "code",
   "execution_count": 11,
   "metadata": {},
   "outputs": [
    {
     "data": {
      "image/png": "[encoded data removed]",
      "text/plain": [
       "<Figure size 720x504 with 1 Axes>"
      ]
     },
     "metadata": {
      "needs_background": "light"
     },
     "output_type": "display_data"
    }
   ],
   "source": [
    "# plot feature coefficient variance\n",
    "cv_results = cross_validate(log, X_train, y_train, cv=5, return_estimator=True)\n",
    "\n",
    "feat_coef = []\n",
    "for model in cv_results['estimator']:\n",
    "    feat_coef.append(list(zip(X_train.columns, model.coef_[0])))\n",
    "flat_feat = [item for sublist in feat_coef for item in sublist]\n",
    "\n",
    "d = defaultdict(list)\n",
    "for k, v in flat_feat:\n",
    "    d[k].append(v)\n",
    "sorted_d = sorted(d.items(), key=operator.itemgetter(1), reverse=True)\n",
    "x = ([feat[0] for feat in sorted_d[:2]]\n",
    "     + [feat[0] for feat in sorted_d[4:6]]\n",
    "    + [feat[0] for feat in sorted_d[-4:]])\n",
    "y = ([coef[1] for coef in sorted_d[:2]]\n",
    "    + [coef[1] for coef in sorted_d[4:6]]\n",
    "    + [coef[1] for coef in sorted_d[-4:]])\n",
    "with open('feat_coef_low', 'wb') as f:\n",
    "    pickle.dump(sorted_d, f)\n",
    "\n",
    "labels = ['Overtime', 'Sales Dept', 'Single', 'HR Role', 'Life Sciences Ed.',\n",
    "          'Env. Satisfaction', 'Job Involvement', 'Manager Role']\n",
    "plt.figure(figsize=(10, 7))\n",
    "ax = sns.boxplot(y,x, linewidth=2, palette='Set2')\n",
    "# ax.set_xticklabels(labels)\n",
    "# ax.axhline(3.5, ls='--', c='r')\n",
    "ax.axhspan(ymin=3.5, ymax=7.5,color='g', alpha=0.1)\n",
    "ax.axhspan(ymin=-0.5, ymax=3.5,color='r', alpha=0.1)\n",
    "plt.title('Top Factors in Predicting Employee Attrition')\n",
    "plt.xlabel('Predictive Influence on Attrition')\n",
    "plt.ylabel('Features');"
   ]
  },
  {
   "cell_type": "code",
   "execution_count": null,
   "metadata": {},
   "outputs": [],
   "source": []
  }
 ],
 "metadata": {
  "kernelspec": {
   "display_name": "Python 3",
   "language": "python",
   "name": "python3"
  },
  "language_info": {
   "codemirror_mode": {
    "name": "ipython",
    "version": 3
   },
   "file_extension": ".py",
   "mimetype": "text/x-python",
   "name": "python",
   "nbconvert_exporter": "python",
   "pygments_lexer": "ipython3",
   "version": "3.7.3"
  }
 },
 "nbformat": 4,
 "nbformat_minor": 2
}
